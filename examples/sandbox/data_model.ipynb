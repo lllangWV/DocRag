{
 "cells": [
  {
   "cell_type": "code",
   "execution_count": 1,
   "metadata": {},
   "outputs": [
    {
     "name": "stderr",
     "output_type": "stream",
     "text": [
      "c:\\Users\\lllang\\miniconda3\\envs\\docsearch\\lib\\site-packages\\tqdm\\auto.py:21: TqdmWarning: IProgress not found. Please update jupyter and ipywidgets. See https://ipywidgets.readthedocs.io/en/stable/user_install.html\n",
      "  from .autonotebook import tqdm as notebook_tqdm\n"
     ]
    }
   ],
   "source": [
    "import os\n",
    "from docsearch.figure_extraction import DocumentPageAnalyzer\n",
    "from IPython.display import display\n",
    "from rich.console import Console\n",
    "from rich.markdown import Markdown\n",
    "from pathlib import Path\n",
    "import pandas as pd\n",
    "import numpy as np\n",
    "import matplotlib.pyplot as plt\n",
    "import seaborn as sns\n",
    "\n",
    "console = Console()"
   ]
  },
  {
   "cell_type": "code",
   "execution_count": 2,
   "metadata": {},
   "outputs": [
    {
     "name": "stdout",
     "output_type": "stream",
     "text": [
      "ROOT_DIR: .\n",
      "DATA_DIR: data\n",
      "SAMPLES_DIR: data\\samples\n",
      "sample_filepath: data\\samples\\sample_1.png\n",
      "sample_filepath: data\\samples\\sample_2.png\n",
      "sample_filepath: data\\samples\\sample_3.png\n",
      "sample_filepath: data\\samples\\sample_4.png\n",
      "sample_filepath: data\\samples\\sample_5.png\n",
      "table_filepaths: \n",
      "[WindowsPath('data/samples/sample_1/sample_1/table/table_000.png'), WindowsPath('data/samples/sample_1/sample_1/table/table_001.png')]\n",
      "figure_filepaths: \n",
      "[WindowsPath('data/samples/sample_1/sample_1/figure/figure_000.png')]\n",
      "figure_captions: \n",
      "[WindowsPath('data/samples/sample_1/sample_1/figure/figure_000_caption.png')]\n"
     ]
    }
   ],
   "source": [
    "ROOT_DIR = Path(\".\")\n",
    "DATA_DIR = ROOT_DIR / \"data\"\n",
    "MODEL_WEIGHTS = DATA_DIR / \"doclayout_yolo_docstructbench_imgsz1024.pt\"\n",
    "SAMPLES_DIR = DATA_DIR / \"samples\"\n",
    "sample_filepaths = list(SAMPLES_DIR.glob(\"*.png\"))\n",
    "\n",
    "print(f\"ROOT_DIR: {ROOT_DIR}\")\n",
    "print(f\"DATA_DIR: {DATA_DIR}\")\n",
    "print(f\"SAMPLES_DIR: {SAMPLES_DIR}\")\n",
    "for filepath in sample_filepaths:\n",
    "    print(f\"sample_filepath: {filepath}\")\n",
    "    \n",
    "    \n",
    "table_filepaths = []\n",
    "table_filepaths.append(sample_filepaths[0].with_suffix(\"\") / \"sample_1\" / \"table\" / \"table_000.png\")\n",
    "table_filepaths.append(sample_filepaths[0].with_suffix(\"\") / \"sample_1\" / \"table\" / \"table_001.png\")\n",
    "\n",
    "table_captions = []\n",
    "table_captions.append(sample_filepaths[0].with_suffix(\"\") / \"sample_1\" / \"table\" / \"table_000_caption.png\")\n",
    "table_captions.append(sample_filepaths[0].with_suffix(\"\") / \"sample_1\" / \"table\" / \"table_001_caption.png\")\n",
    "print(f\"table_filepaths: \\n{table_filepaths}\")\n",
    "\n",
    "\n",
    "figure_filepaths = []\n",
    "figure_filepaths.append(sample_filepaths[0].with_suffix(\"\") / \"sample_1\" / \"figure\" / \"figure_000.png\")\n",
    "\n",
    "print(f\"figure_filepaths: \\n{figure_filepaths}\")\n",
    "\n",
    "figure_captions = []\n",
    "figure_captions.append(sample_filepaths[0].with_suffix(\"\") / \"sample_1\" / \"figure\" / \"figure_000_caption.png\")\n",
    "\n",
    "print(f\"figure_captions: \\n{figure_captions}\")\n"
   ]
  },
  {
   "cell_type": "markdown",
   "metadata": {},
   "source": [
    "## Table Extraction"
   ]
  },
  {
   "cell_type": "code",
   "execution_count": 11,
   "metadata": {},
   "outputs": [
    {
     "name": "stdout",
     "output_type": "stream",
     "text": [
      "Processing async: <PIL.PngImagePlugin.PngImageFile image mode=RGB size=1571x361 at 0x218F86DDF90>\n",
      "Making API call (Model: gemini-2.0-flash)...\n",
      "Processing async: <PIL.PngImagePlugin.PngImageFile image mode=RGB size=1010x48 at 0x218F86DE800>\n",
      "Making API call (Model: gemini-2.0-flash)...\n",
      "Table(\n",
      "df=\n",
      "  Task/Dataset   BBBP  Tox21  ToxCast  SIDER  ClinTox   BACE   ESOL  FreeSolv\n",
      "0     KCL(GIN)  0.954  0.854    0.748  0.660    0.945  0.932  0.580     0.856\n",
      "1     KCL(GAT)  0.956  0.857    0.750  0.663    0.942  0.930  0.588     0.860\n",
      "2     KCL(GCN)  0.956  0.856    0.757  0.666    0.945  0.934  0.582     0.854\n",
      "3   KCL(R-GCN)  0.936  0.830    0.735  0.637    0.948  0.898  0.780     1.236\n",
      "4    KCL(MPNN)  0.940  0.835    0.738  0.640    0.950  0.895  0.743     1.111\n",
      "5   KCL(KMPNN)  0.961  0.859    0.740  0.671    0.958  0.924  0.732     0.795, \n",
      "summary=This table presents the performance of different KCL models (GIN, GAT, GCN, R-GCN, MPNN, and KMPNN) on various classification and regression tasks. The classification tasks include BBBP, Tox21, ToxCast, SIDER, ClinTox, and BACE, while the regression tasks include ESOL and FreeSolv. The table shows the performance metrics for each model on each task.)\n"
     ]
    },
    {
     "data": {
      "text/html": [
       "<pre style=\"white-space:pre;overflow-x:auto;line-height:normal;font-family:Menlo,'DejaVu Sans Mono',consolas,'Courier New',monospace\">\n",
       "                                                                                       \n",
       " <span style=\"font-weight: bold\"> Task/Dataset </span> <span style=\"font-weight: bold\"> BBBP  </span> <span style=\"font-weight: bold\"> Tox21 </span> <span style=\"font-weight: bold\"> ToxCast </span> <span style=\"font-weight: bold\"> SIDER </span> <span style=\"font-weight: bold\"> ClinTox </span> <span style=\"font-weight: bold\"> BACE  </span> <span style=\"font-weight: bold\"> ESOL  </span> <span style=\"font-weight: bold\"> FreeSolv </span> \n",
       " ━━━━━━━━━━━━━━━━━━━━━━━━━━━━━━━━━━━━━━━━━━━━━━━━━━━━━━━━━━━━━━━━━━━━━━━━━━━━━━━━━━━━━ \n",
       "  KCL(GIN)       0.954   0.854   0.748     0.660   0.945     0.932   0.580   0.856     \n",
       "  KCL(GAT)       0.956   0.857   0.750     0.663   0.942     0.930   0.588   0.860     \n",
       "  KCL(GCN)       0.956   0.856   0.757     0.666   0.945     0.934   0.582   0.854     \n",
       "  KCL(R-GCN)     0.936   0.830   0.735     0.637   0.948     0.898   0.780   1.236     \n",
       "  KCL(MPNN)      0.940   0.835   0.738     0.640   0.950     0.895   0.743   1.111     \n",
       "  KCL(KMPNN)     0.961   0.859   0.740     0.671   0.958     0.924   0.732   0.795     \n",
       "                                                                                       \n",
       "</pre>\n"
      ],
      "text/plain": [
       "\n",
       "                                                                                       \n",
       " \u001b[1m \u001b[0m\u001b[1mTask/Dataset\u001b[0m\u001b[1m \u001b[0m \u001b[1m \u001b[0m\u001b[1mBBBP \u001b[0m\u001b[1m \u001b[0m \u001b[1m \u001b[0m\u001b[1mTox21\u001b[0m\u001b[1m \u001b[0m \u001b[1m \u001b[0m\u001b[1mToxCast\u001b[0m\u001b[1m \u001b[0m \u001b[1m \u001b[0m\u001b[1mSIDER\u001b[0m\u001b[1m \u001b[0m \u001b[1m \u001b[0m\u001b[1mClinTox\u001b[0m\u001b[1m \u001b[0m \u001b[1m \u001b[0m\u001b[1mBACE \u001b[0m\u001b[1m \u001b[0m \u001b[1m \u001b[0m\u001b[1mESOL \u001b[0m\u001b[1m \u001b[0m \u001b[1m \u001b[0m\u001b[1mFreeSolv\u001b[0m\u001b[1m \u001b[0m \n",
       " ━━━━━━━━━━━━━━━━━━━━━━━━━━━━━━━━━━━━━━━━━━━━━━━━━━━━━━━━━━━━━━━━━━━━━━━━━━━━━━━━━━━━━ \n",
       "  KCL(GIN)       0.954   0.854   0.748     0.660   0.945     0.932   0.580   0.856     \n",
       "  KCL(GAT)       0.956   0.857   0.750     0.663   0.942     0.930   0.588   0.860     \n",
       "  KCL(GCN)       0.956   0.856   0.757     0.666   0.945     0.934   0.582   0.854     \n",
       "  KCL(R-GCN)     0.936   0.830   0.735     0.637   0.948     0.898   0.780   1.236     \n",
       "  KCL(MPNN)      0.940   0.835   0.738     0.640   0.950     0.895   0.743   1.111     \n",
       "  KCL(KMPNN)     0.961   0.859   0.740     0.671   0.958     0.924   0.732   0.795     \n",
       "                                                                                       \n"
      ]
     },
     "metadata": {},
     "output_type": "display_data"
    }
   ],
   "source": [
    "from docsearch.core import Table\n",
    "\n",
    "table= Table.from_image(table_filepaths[0],caption=table_captions[0])\n",
    "print(table)\n",
    "md = Markdown(table._md)\n",
    "console.print(md, crop=False)"
   ]
  },
  {
   "cell_type": "markdown",
   "metadata": {},
   "source": [
    "### Asynchronous Table Extraction"
   ]
  },
  {
   "cell_type": "code",
   "execution_count": 4,
   "metadata": {},
   "outputs": [],
   "source": [
    "# import asyncio\n",
    "# tasks = [asyncio.create_task(Table.from_image_async(image)) for image in table_filepaths]\n",
    "# results = await asyncio.gather(*tasks)\n",
    "\n",
    "# for result in results:\n",
    "#     print(result)\n",
    "#     md = Markdown(result._md)\n",
    "#     console.print(md, crop=False)"
   ]
  },
  {
   "cell_type": "markdown",
   "metadata": {},
   "source": [
    "### Testing Table Class"
   ]
  },
  {
   "cell_type": "code",
   "execution_count": 5,
   "metadata": {},
   "outputs": [
    {
     "data": {
      "text/html": [
       "<div>\n",
       "<style scoped>\n",
       "    .dataframe tbody tr th:only-of-type {\n",
       "        vertical-align: middle;\n",
       "    }\n",
       "\n",
       "    .dataframe tbody tr th {\n",
       "        vertical-align: top;\n",
       "    }\n",
       "\n",
       "    .dataframe thead th {\n",
       "        text-align: right;\n",
       "    }\n",
       "</style>\n",
       "<table border=\"1\" class=\"dataframe\">\n",
       "  <thead>\n",
       "    <tr style=\"text-align: right;\">\n",
       "      <th></th>\n",
       "      <th>Task/Dataset</th>\n",
       "      <th>BBBP</th>\n",
       "      <th>Tox21</th>\n",
       "      <th>ToxCast</th>\n",
       "      <th>SIDER</th>\n",
       "      <th>ClinTox</th>\n",
       "      <th>BACE</th>\n",
       "      <th>ESOL</th>\n",
       "      <th>FreeSolv</th>\n",
       "    </tr>\n",
       "  </thead>\n",
       "  <tbody>\n",
       "    <tr>\n",
       "      <th>0</th>\n",
       "      <td>KCL(GIN)</td>\n",
       "      <td>0.954</td>\n",
       "      <td>0.854</td>\n",
       "      <td>0.748</td>\n",
       "      <td>0.660</td>\n",
       "      <td>0.945</td>\n",
       "      <td>0.932</td>\n",
       "      <td>0.580</td>\n",
       "      <td>0.856</td>\n",
       "    </tr>\n",
       "    <tr>\n",
       "      <th>1</th>\n",
       "      <td>KCL(GAT)</td>\n",
       "      <td>0.956</td>\n",
       "      <td>0.857</td>\n",
       "      <td>0.750</td>\n",
       "      <td>0.663</td>\n",
       "      <td>0.942</td>\n",
       "      <td>0.930</td>\n",
       "      <td>0.588</td>\n",
       "      <td>0.860</td>\n",
       "    </tr>\n",
       "    <tr>\n",
       "      <th>2</th>\n",
       "      <td>KCL(GCN)</td>\n",
       "      <td>0.956</td>\n",
       "      <td>0.856</td>\n",
       "      <td>0.757</td>\n",
       "      <td>0.666</td>\n",
       "      <td>0.945</td>\n",
       "      <td>0.934</td>\n",
       "      <td>0.582</td>\n",
       "      <td>0.854</td>\n",
       "    </tr>\n",
       "    <tr>\n",
       "      <th>3</th>\n",
       "      <td>KCL(R-GCN)</td>\n",
       "      <td>0.936</td>\n",
       "      <td>0.830</td>\n",
       "      <td>0.735</td>\n",
       "      <td>0.637</td>\n",
       "      <td>0.948</td>\n",
       "      <td>0.898</td>\n",
       "      <td>0.780</td>\n",
       "      <td>1.236</td>\n",
       "    </tr>\n",
       "    <tr>\n",
       "      <th>4</th>\n",
       "      <td>KCL(MPNN)</td>\n",
       "      <td>0.940</td>\n",
       "      <td>0.835</td>\n",
       "      <td>0.738</td>\n",
       "      <td>0.640</td>\n",
       "      <td>0.950</td>\n",
       "      <td>0.895</td>\n",
       "      <td>0.743</td>\n",
       "      <td>1.111</td>\n",
       "    </tr>\n",
       "    <tr>\n",
       "      <th>5</th>\n",
       "      <td>KCL(KMPNN)</td>\n",
       "      <td>0.961</td>\n",
       "      <td>0.859</td>\n",
       "      <td>0.740</td>\n",
       "      <td>0.671</td>\n",
       "      <td>0.958</td>\n",
       "      <td>0.924</td>\n",
       "      <td>0.732</td>\n",
       "      <td>0.795</td>\n",
       "    </tr>\n",
       "  </tbody>\n",
       "</table>\n",
       "</div>"
      ],
      "text/plain": [
       "  Task/Dataset   BBBP  Tox21  ToxCast  SIDER  ClinTox   BACE   ESOL  FreeSolv\n",
       "0     KCL(GIN)  0.954  0.854    0.748  0.660    0.945  0.932  0.580     0.856\n",
       "1     KCL(GAT)  0.956  0.857    0.750  0.663    0.942  0.930  0.588     0.860\n",
       "2     KCL(GCN)  0.956  0.856    0.757  0.666    0.945  0.934  0.582     0.854\n",
       "3   KCL(R-GCN)  0.936  0.830    0.735  0.637    0.948  0.898  0.780     1.236\n",
       "4    KCL(MPNN)  0.940  0.835    0.738  0.640    0.950  0.895  0.743     1.111\n",
       "5   KCL(KMPNN)  0.961  0.859    0.740  0.671    0.958  0.924  0.732     0.795"
      ]
     },
     "execution_count": 5,
     "metadata": {},
     "output_type": "execute_result"
    }
   ],
   "source": [
    "table.df"
   ]
  },
  {
   "cell_type": "code",
   "execution_count": 6,
   "metadata": {},
   "outputs": [
    {
     "data": {
      "text/plain": [
       "'{\\n  \"df\": [\\n    {\\n      \"Task/Dataset\": \"KCL(GIN)\",\\n      \"BBBP\": 0.954,\\n      \"Tox21\": 0.854,\\n      \"ToxCast\": 0.748,\\n      \"SIDER\": 0.66,\\n      \"ClinTox\": 0.945,\\n      \"BACE\": 0.932,\\n      \"ESOL\": 0.58,\\n      \"FreeSolv\": 0.856\\n    },\\n    {\\n      \"Task/Dataset\": \"KCL(GAT)\",\\n      \"BBBP\": 0.956,\\n      \"Tox21\": 0.857,\\n      \"ToxCast\": 0.75,\\n      \"SIDER\": 0.663,\\n      \"ClinTox\": 0.942,\\n      \"BACE\": 0.93,\\n      \"ESOL\": 0.588,\\n      \"FreeSolv\": 0.86\\n    },\\n    {\\n      \"Task/Dataset\": \"KCL(GCN)\",\\n      \"BBBP\": 0.956,\\n      \"Tox21\": 0.856,\\n      \"ToxCast\": 0.757,\\n      \"SIDER\": 0.666,\\n      \"ClinTox\": 0.945,\\n      \"BACE\": 0.934,\\n      \"ESOL\": 0.582,\\n      \"FreeSolv\": 0.854\\n    },\\n    {\\n      \"Task/Dataset\": \"KCL(R-GCN)\",\\n      \"BBBP\": 0.936,\\n      \"Tox21\": 0.83,\\n      \"ToxCast\": 0.735,\\n      \"SIDER\": 0.637,\\n      \"ClinTox\": 0.948,\\n      \"BACE\": 0.898,\\n      \"ESOL\": 0.78,\\n      \"FreeSolv\": 1.236\\n    },\\n    {\\n      \"Task/Dataset\": \"KCL(MPNN)\",\\n      \"BBBP\": 0.94,\\n      \"Tox21\": 0.835,\\n      \"ToxCast\": 0.738,\\n      \"SIDER\": 0.64,\\n      \"ClinTox\": 0.95,\\n      \"BACE\": 0.895,\\n      \"ESOL\": 0.743,\\n      \"FreeSolv\": 1.111\\n    },\\n    {\\n      \"Task/Dataset\": \"KCL(KMPNN)\",\\n      \"BBBP\": 0.961,\\n      \"Tox21\": 0.859,\\n      \"ToxCast\": 0.74,\\n      \"SIDER\": 0.671,\\n      \"ClinTox\": 0.958,\\n      \"BACE\": 0.924,\\n      \"ESOL\": 0.732,\\n      \"FreeSolv\": 0.795\\n    }\\n  ],\\n  \"summary\": \"This table presents the performance of different KCL models (GIN, GAT, GCN, R-GCN, MPNN, and KMPNN) on various classification and regression tasks. The classification tasks include BBBP, Tox21, ToxCast, SIDER, ClinTox, and BACE, while the regression tasks include ESOL and FreeSolv. The table shows the performance metrics for each model on each task.\",\\n  \"md\": \"| Task/Dataset | BBBP   | Tox21  | ToxCast | SIDER  | ClinTox | BACE   | ESOL   | FreeSolv |\\\\n| :----------- | :----- | :----- | :------ | :----- | :------ | :----- | :----- | :------- |\\\\n| KCL(GIN)     | 0.954  | 0.854  | 0.748   | 0.660  | 0.945   | 0.932  | 0.580  | 0.856    |\\\\n| KCL(GAT)     | 0.956  | 0.857  | 0.750   | 0.663  | 0.942   | 0.930  | 0.588  | 0.860    |\\\\n| KCL(GCN)     | 0.956  | 0.856  | 0.757   | 0.666  | 0.945   | 0.934  | 0.582  | 0.854    |\\\\n| KCL(R-GCN)   | 0.936  | 0.830  | 0.735   | 0.637  | 0.948   | 0.898  | 0.780  | 1.236    |\\\\n| KCL(MPNN)    | 0.940  | 0.835  | 0.738   | 0.640  | 0.950   | 0.895  | 0.743  | 1.111    |\\\\n| KCL(KMPNN)   | 0.961  | 0.859  | 0.740   | 0.671  | 0.958   | 0.924  | 0.732  | 0.795    |\",\\n  \"caption\": {\\n    \"md\": \"Table 11: Results comparison with different graph encoders.\"\\n  }\\n}'"
      ]
     },
     "execution_count": 6,
     "metadata": {},
     "output_type": "execute_result"
    }
   ],
   "source": [
    "table.to_json(filepath=table_filepaths[0].with_suffix(\".json\"))"
   ]
  },
  {
   "cell_type": "code",
   "execution_count": 7,
   "metadata": {},
   "outputs": [
    {
     "data": {
      "text/plain": [
       "Caption(\n",
       "md=Table 11: Results comparison with different graph encoders., \n",
       "image=<PIL.PngImagePlugin.PngImageFile image mode=RGB size=1010x48 at 0x218F8376A70>)"
      ]
     },
     "execution_count": 7,
     "metadata": {},
     "output_type": "execute_result"
    }
   ],
   "source": [
    "table.caption"
   ]
  },
  {
   "cell_type": "code",
   "execution_count": 8,
   "metadata": {},
   "outputs": [
    {
     "data": {
      "text/html": [
       "<pre style=\"white-space:pre;overflow-x:auto;line-height:normal;font-family:Menlo,'DejaVu Sans Mono',consolas,'Courier New',monospace\">\n",
       "                                                                                       \n",
       " <span style=\"font-weight: bold\"> Task/Dataset </span> <span style=\"font-weight: bold\"> BBBP  </span> <span style=\"font-weight: bold\"> Tox21 </span> <span style=\"font-weight: bold\"> ToxCast </span> <span style=\"font-weight: bold\"> SIDER </span> <span style=\"font-weight: bold\"> ClinTox </span> <span style=\"font-weight: bold\"> BACE  </span> <span style=\"font-weight: bold\"> ESOL  </span> <span style=\"font-weight: bold\"> FreeSolv </span> \n",
       " ━━━━━━━━━━━━━━━━━━━━━━━━━━━━━━━━━━━━━━━━━━━━━━━━━━━━━━━━━━━━━━━━━━━━━━━━━━━━━━━━━━━━━ \n",
       "  KCL(GIN)       0.954   0.854   0.748     0.660   0.945     0.932   0.580   0.856     \n",
       "  KCL(GAT)       0.956   0.857   0.750     0.663   0.942     0.930   0.588   0.860     \n",
       "  KCL(GCN)       0.956   0.856   0.757     0.666   0.945     0.934   0.582   0.854     \n",
       "  KCL(R-GCN)     0.936   0.830   0.735     0.637   0.948     0.898   0.780   1.236     \n",
       "  KCL(MPNN)      0.940   0.835   0.738     0.640   0.950     0.895   0.743   1.111     \n",
       "  KCL(KMPNN)     0.961   0.859   0.740     0.671   0.958     0.924   0.732   0.795     \n",
       "                                                                                       \n",
       "\n",
       "Table 11: Results comparison with different graph encoders.                                                        \n",
       "\n",
       "<span style=\"font-style: italic\">Summary: This table presents the performance of different KCL models (GIN, GAT, GCN, R-GCN, MPNN, and KMPNN) on </span>   \n",
       "<span style=\"font-style: italic\">various classification and regression tasks. The classification tasks include BBBP, Tox21, ToxCast, SIDER, ClinTox,</span>\n",
       "<span style=\"font-style: italic\">and BACE, while the regression tasks include ESOL and FreeSolv. The table shows the performance metrics for each </span>  \n",
       "<span style=\"font-style: italic\">model on each task.</span>                                                                                                \n",
       "</pre>\n"
      ],
      "text/plain": [
       "\n",
       "                                                                                       \n",
       " \u001b[1m \u001b[0m\u001b[1mTask/Dataset\u001b[0m\u001b[1m \u001b[0m \u001b[1m \u001b[0m\u001b[1mBBBP \u001b[0m\u001b[1m \u001b[0m \u001b[1m \u001b[0m\u001b[1mTox21\u001b[0m\u001b[1m \u001b[0m \u001b[1m \u001b[0m\u001b[1mToxCast\u001b[0m\u001b[1m \u001b[0m \u001b[1m \u001b[0m\u001b[1mSIDER\u001b[0m\u001b[1m \u001b[0m \u001b[1m \u001b[0m\u001b[1mClinTox\u001b[0m\u001b[1m \u001b[0m \u001b[1m \u001b[0m\u001b[1mBACE \u001b[0m\u001b[1m \u001b[0m \u001b[1m \u001b[0m\u001b[1mESOL \u001b[0m\u001b[1m \u001b[0m \u001b[1m \u001b[0m\u001b[1mFreeSolv\u001b[0m\u001b[1m \u001b[0m \n",
       " ━━━━━━━━━━━━━━━━━━━━━━━━━━━━━━━━━━━━━━━━━━━━━━━━━━━━━━━━━━━━━━━━━━━━━━━━━━━━━━━━━━━━━ \n",
       "  KCL(GIN)       0.954   0.854   0.748     0.660   0.945     0.932   0.580   0.856     \n",
       "  KCL(GAT)       0.956   0.857   0.750     0.663   0.942     0.930   0.588   0.860     \n",
       "  KCL(GCN)       0.956   0.856   0.757     0.666   0.945     0.934   0.582   0.854     \n",
       "  KCL(R-GCN)     0.936   0.830   0.735     0.637   0.948     0.898   0.780   1.236     \n",
       "  KCL(MPNN)      0.940   0.835   0.738     0.640   0.950     0.895   0.743   1.111     \n",
       "  KCL(KMPNN)     0.961   0.859   0.740     0.671   0.958     0.924   0.732   0.795     \n",
       "                                                                                       \n",
       "\n",
       "Table 11: Results comparison with different graph encoders.                                                        \n",
       "\n",
       "\u001b[3mSummary: This table presents the performance of different KCL models (GIN, GAT, GCN, R-GCN, MPNN, and KMPNN) on \u001b[0m   \n",
       "\u001b[3mvarious classification and regression tasks. The classification tasks include BBBP, Tox21, ToxCast, SIDER, ClinTox,\u001b[0m\n",
       "\u001b[3mand BACE, while the regression tasks include ESOL and FreeSolv. The table shows the performance metrics for each \u001b[0m  \n",
       "\u001b[3mmodel on each task.\u001b[0m                                                                                                \n"
      ]
     },
     "metadata": {},
     "output_type": "display_data"
    }
   ],
   "source": [
    "table.description\n",
    "md = Markdown(table.description)\n",
    "console.print(md, crop=False)"
   ]
  },
  {
   "cell_type": "markdown",
   "metadata": {},
   "source": [
    "## Figure Extraction"
   ]
  },
  {
   "cell_type": "code",
   "execution_count": 12,
   "metadata": {},
   "outputs": [
    {
     "name": "stdout",
     "output_type": "stream",
     "text": [
      "Processing async: <PIL.PngImagePlugin.PngImageFile image mode=RGB size=957x386 at 0x218F83D2F80>\n",
      "Making API call (Model: gemini-2.0-flash)...\n",
      "Processing async: <PIL.PngImagePlugin.PngImageFile image mode=RGB size=1010x48 at 0x218F86DE050>\n",
      "Making API call (Model: gemini-2.0-flash)...\n",
      "Figure(\n",
      "md=| Feature          | BACE | ToxCast |\n",
      "|------------------|------|---------|\n",
      "| Ionization       | Yes  | Yes     |\n",
      "| Abundance        | No   | No      |\n",
      "| Electronegativity | Yes  | No      |\n",
      "| Electron Affinity  | No   | No      |\n",
      "| Boiling Point    | No   | Yes     |\n",
      "| Periodic         | No   | Yes     |\n",
      "| State            | Yes  | Yes     |\n",
      "| Heat             | Yes  | Yes     |\n",
      "| Family           | No   | Yes     |\n",
      "| Weight           | No   | No      |\n",
      "| Conductivity     | Yes  | No      |\n",
      "| Density          | Yes  | No      |\n",
      "| Metallicity      | Yes  | Yes     |\n",
      "| Radius           | No   | No      |\n",
      "| Melting Point    | No   | No      |, \n",
      "summary=The table compares the features used in BACE and ToxCast models. It indicates whether each feature is used in each model with a 'Yes' or 'No'., \n",
      "image=<PIL.PngImagePlugin.PngImageFile image mode=RGB size=957x386 at 0x218F83D2F80>, \n",
      "caption=Table 11: Results comparison with different graph encoders.)\n"
     ]
    }
   ],
   "source": [
    "from docsearch.core import Figure\n",
    "\n",
    "figure = Figure.from_image(figure_filepaths[0], caption=figure_captions[0])\n",
    "print(figure)\n",
    "md = Markdown(figure._md)"
   ]
  },
  {
   "cell_type": "code",
   "execution_count": 14,
   "metadata": {},
   "outputs": [
    {
     "name": "stdout",
     "output_type": "stream",
     "text": [
      "| Feature          | BACE | ToxCast |\n",
      "|------------------|------|---------|\n",
      "| Ionization       | Yes  | Yes     |\n",
      "| Abundance        | No   | No      |\n",
      "| Electronegativity | Yes  | No      |\n",
      "| Electron Affinity  | No   | No      |\n",
      "| Boiling Point    | No   | Yes     |\n",
      "| Periodic         | No   | Yes     |\n",
      "| State            | Yes  | Yes     |\n",
      "| Heat             | Yes  | Yes     |\n",
      "| Family           | No   | Yes     |\n",
      "| Weight           | No   | No      |\n",
      "| Conductivity     | Yes  | No      |\n",
      "| Density          | Yes  | No      |\n",
      "| Metallicity      | Yes  | Yes     |\n",
      "| Radius           | No   | No      |\n",
      "| Melting Point    | No   | No      |\n",
      "\n",
      "Table 11: Results comparison with different graph encoders.\n",
      "\n",
      "*Summary: The table compares the features used in BACE and ToxCast models. It indicates whether each feature is used in each model with a 'Yes' or 'No'.*\n"
     ]
    }
   ],
   "source": [
    "print(figure.description)\n"
   ]
  },
  {
   "cell_type": "markdown",
   "metadata": {},
   "source": [
    "## Page Extraction"
   ]
  },
  {
   "cell_type": "code",
   "execution_count": null,
   "metadata": {},
   "outputs": [],
   "source": [
    "from docsearch.core import Page\n",
    "\n",
    "page = Page.from_image(sample_filepaths[0])\n",
    "print(page)\n",
    "md = Markdown(page._md)\n",
    "print(page.description)\n"
   ]
  },
  {
   "cell_type": "markdown",
   "metadata": {},
   "source": []
  }
 ],
 "metadata": {
  "kernelspec": {
   "display_name": "docsearch",
   "language": "python",
   "name": "python3"
  },
  "language_info": {
   "codemirror_mode": {
    "name": "ipython",
    "version": 3
   },
   "file_extension": ".py",
   "mimetype": "text/x-python",
   "name": "python",
   "nbconvert_exporter": "python",
   "pygments_lexer": "ipython3",
   "version": "3.10.17"
  }
 },
 "nbformat": 4,
 "nbformat_minor": 2
}
