{
 "cells": [
  {
   "cell_type": "code",
   "execution_count": 1,
   "metadata": {},
   "outputs": [
    {
     "name": "stdout",
     "output_type": "stream",
     "text": [
      "TEST_DATA path: ..\\..\\data\\test-dataset\n",
      "\n",
      "TEST_DATA files:\n",
      "----------------------------------------------------------------------------------------------------\n",
      "..\\..\\data\\test-dataset\\Fang et al. - 2022 - Molecular Contrastive Learning with Chemical Eleme.pdf\n",
      "..\\..\\data\\test-dataset\\Fang et al. - 2023 - Knowledge graph-enhanced molecular contrastive lea.pdf\n"
     ]
    }
   ],
   "source": [
    "import os\n",
    "from pathlib import Path\n",
    "import shutil\n",
    "\n",
    "import pandas as pd\n",
    "import numpy as np\n",
    "import matplotlib.pyplot as plt\n",
    "import seaborn as sns\n",
    "\n",
    "from docsearch import DocSearch, PDFProcessor\n",
    "\n",
    "CURRENT_DIR = Path(\"../../../\").parent\n",
    "DATA_DIR = CURRENT_DIR / 'data'\n",
    "\n",
    "TEST_DATA = DATA_DIR / 'test-dataset'\n",
    "\n",
    "\n",
    "print(f\"TEST_DATA path: {TEST_DATA}\\n\")\n",
    "\n",
    "print(f\"TEST_DATA files:\")\n",
    "print('-'*100)\n",
    "filepaths=[]\n",
    "for file in TEST_DATA.glob(\"*.pdf\"):\n",
    "    print(file)\n",
    "    filepaths.append(file)\n"
   ]
  },
  {
   "cell_type": "code",
   "execution_count": null,
   "metadata": {},
   "outputs": [],
   "source": [
    "processor = PDFProcessor(\n",
    "    model=\"gpt-4o-mini\",\n",
    "    max_tokens=3000,\n",
    ")"
   ]
  },
  {
   "cell_type": "code",
   "execution_count": null,
   "metadata": {},
   "outputs": [],
   "source": [
    "processor.process(filepaths[0])"
   ]
  },
  {
   "cell_type": "code",
   "execution_count": 4,
   "metadata": {},
   "outputs": [],
   "source": [
    "processor.to_json(DATA_DIR / \"test.json\")"
   ]
  },
  {
   "cell_type": "code",
   "execution_count": null,
   "metadata": {},
   "outputs": [],
   "source": [
    "DOC_REPO_DIR = DATA_DIR / 'DOC_REPO'\n",
    "\n",
    "doc_search = DocSearch(base_path=DOC_REPO_DIR)\n",
    "# doc_search.add_pdfs(\"document.pdf\")\n",
    "# response = doc_search.query(\"What are the main findings?\")\n",
    "\n",
    "# # Advanced usage\n",
    "# doc_search.add_pdfs(\n",
    "#     [\"doc1.pdf\", \"doc2.pdf\"], \n",
    "#     extraction_method='text_then_llm'\n",
    "# )\n",
    "# response = doc_search.query(\n",
    "#     \"Complex query here\",\n",
    "#     engine_type='citation_query',\n",
    "#     similarity_top_k=30,\n",
    "#     citation_chunk_size=2048\n",
    "# )"
   ]
  }
 ],
 "metadata": {
  "kernelspec": {
   "display_name": "DOCSEARCH",
   "language": "python",
   "name": "python3"
  },
  "language_info": {
   "codemirror_mode": {
    "name": "ipython",
    "version": 3
   },
   "file_extension": ".py",
   "mimetype": "text/x-python",
   "name": "python",
   "nbconvert_exporter": "python",
   "pygments_lexer": "ipython3",
   "version": "3.10.0"
  }
 },
 "nbformat": 4,
 "nbformat_minor": 2
}
